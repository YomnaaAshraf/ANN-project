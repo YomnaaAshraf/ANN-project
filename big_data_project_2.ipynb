{
  "metadata": {
    "kernelspec": {
      "display_name": "Python 3 (ipykernel)",
      "language": "python",
      "name": "python3"
    },
    "language_info": {
      "codemirror_mode": {
        "name": "ipython",
        "version": 3
      },
      "file_extension": ".py",
      "mimetype": "text/x-python",
      "name": "python",
      "nbconvert_exporter": "python",
      "pygments_lexer": "ipython3",
      "version": "3.11.6"
    },
    "kaggle": {
      "accelerator": "none",
      "dataSources": [
        {
          "sourceId": 10255976,
          "sourceType": "datasetVersion",
          "datasetId": 6344337
        }
      ],
      "dockerImageVersionId": 30787,
      "isInternetEnabled": true,
      "language": "python",
      "sourceType": "notebook",
      "isGpuEnabled": false
    },
    "colab": {
      "provenance": [],
      "include_colab_link": true
    }
  },
  "nbformat_minor": 5,
  "nbformat": 4,
  "cells": [
    {
      "cell_type": "markdown",
      "metadata": {
        "id": "view-in-github",
        "colab_type": "text"
      },
      "source": [
        "<a href=\"https://colab.research.google.com/github/YomnaaAshraf/ANN-project/blob/main/big_data_project_2.ipynb\" target=\"_parent\"><img src=\"https://colab.research.google.com/assets/colab-badge.svg\" alt=\"Open In Colab\"/></a>"
      ]
    },
    {
      "id": "283f28b6-bff3-41b2-8871-491b970952d2",
      "cell_type": "code",
      "source": [
        "import pyspark"
      ],
      "metadata": {
        "trusted": true,
        "id": "283f28b6-bff3-41b2-8871-491b970952d2"
      },
      "outputs": [],
      "execution_count": 1
    },
    {
      "id": "ec6c1f44-d4c5-477b-ab23-9deae841bca3",
      "cell_type": "code",
      "source": [
        "from pyspark.sql.functions import count, when, isnull"
      ],
      "metadata": {
        "trusted": true,
        "id": "ec6c1f44-d4c5-477b-ab23-9deae841bca3"
      },
      "outputs": [],
      "execution_count": 2
    },
    {
      "id": "3f4bb393-94c5-459e-98d1-8cf7929df664",
      "cell_type": "code",
      "source": [
        "from pyspark.sql import SparkSession\n",
        "\n",
        "# Initialize SparkSession with increased memory\n",
        "spark = SparkSession.builder \\\n",
        "    .appName(\"Big Data Project\") \\\n",
        "    .config(\"spark.executor.memory\", \"4g\").config(\"spark.driver.memory\", \"4g\").getOrCreate()"
      ],
      "metadata": {
        "trusted": true,
        "id": "3f4bb393-94c5-459e-98d1-8cf7929df664"
      },
      "outputs": [],
      "execution_count": 3
    },
    {
      "id": "08d05162-03db-4500-b02a-4556e134cff8",
      "cell_type": "code",
      "source": [
        "df = spark.read.csv(\"hdfs://namenode:9000/pharma_data/pharma_data.csv\", header=True, inferSchema=True)"
      ],
      "metadata": {
        "trusted": true,
        "id": "08d05162-03db-4500-b02a-4556e134cff8"
      },
      "outputs": [],
      "execution_count": null
    },
    {
      "id": "b90c9be0-2083-45bb-a892-8a948ad9870b",
      "cell_type": "code",
      "source": [
        "fraction = 10000 / df.count()\n",
        "df = df.sample(withReplacement=False, fraction=fraction, seed=42)"
      ],
      "metadata": {
        "trusted": true,
        "id": "b90c9be0-2083-45bb-a892-8a948ad9870b"
      },
      "outputs": [],
      "execution_count": null
    },
    {
      "cell_type": "code",
      "source": [
        "df.show()"
      ],
      "metadata": {
        "id": "MQ9PKT9Ev7B7"
      },
      "id": "MQ9PKT9Ev7B7",
      "execution_count": null,
      "outputs": []
    },
    {
      "id": "f156bc8c-897b-44b6-938f-8a5bef5aa09d",
      "cell_type": "code",
      "source": [
        "# Check for missing values\n",
        "df.select([count(when(isnull(c), c)).alias(c) for c in df.columns]).show()\n",
        "\n",
        "# Remove duplicates\n",
        "df = df.dropDuplicates()\n",
        "\n",
        "# Show the new shape of the dataframe\n",
        "print(f\"Shape after removing duplicates: {df.count()}\")"
      ],
      "metadata": {
        "trusted": true,
        "id": "f156bc8c-897b-44b6-938f-8a5bef5aa09d"
      },
      "outputs": [],
      "execution_count": null
    },
    {
      "id": "f5a33601-a59d-4839-b9c9-dce2773e2862",
      "cell_type": "code",
      "source": [
        "from pyspark.sql.functions import lower, trim\n",
        "\n",
        "# Strip whitespace and convert to lowercase in 'mapped_composition'\n",
        "df = df.withColumn(\"mapped_composition\", trim(lower(df[\"mapped_composition\"])))\n",
        "\n",
        "df.show(5)"
      ],
      "metadata": {
        "trusted": true,
        "id": "f5a33601-a59d-4839-b9c9-dce2773e2862"
      },
      "outputs": [],
      "execution_count": null
    },
    {
      "id": "dc0b7fa5-ce14-4f83-8c52-b57c17d1f503",
      "cell_type": "code",
      "source": [
        "from pyspark.sql.functions import regexp_extract\n",
        "\n",
        "# Extract the numerical value from 'pack_size_label'\n",
        "df = df.withColumn(\"pack_size\", regexp_extract(df[\"pack_size_label\"], r\"(\\d+)\", 1).cast(\"int\"))\n",
        "\n",
        "df.show(5)"
      ],
      "metadata": {
        "trusted": true,
        "id": "dc0b7fa5-ce14-4f83-8c52-b57c17d1f503"
      },
      "outputs": [],
      "execution_count": null
    },
    {
      "id": "b5ef215e-a44f-4ad3-a613-0830f8c84ee5",
      "cell_type": "code",
      "source": [
        "# Calculate the 1st and 99th percentiles for 'price'\n",
        "quantiles = df.approxQuantile(\"price\", [0.01, 0.99], 0.0)\n",
        "lower_bound, upper_bound = quantiles\n",
        "\n",
        "# Clip the 'price' column to remove outliers\n",
        "from pyspark.sql.functions import col\n",
        "\n",
        "df = df.withColumn(\"price\",\n",
        "                  when(col(\"price\") < lower_bound, lower_bound)\n",
        "                  .when(col(\"price\") > upper_bound, upper_bound)\n",
        "                  .otherwise(col(\"price\")))\n",
        "\n",
        "df.show(5)"
      ],
      "metadata": {
        "trusted": true,
        "id": "b5ef215e-a44f-4ad3-a613-0830f8c84ee5"
      },
      "outputs": [],
      "execution_count": null
    },
    {
      "id": "738bbd5a-4d5b-4a0d-ad72-8e14047963bc",
      "cell_type": "code",
      "source": [
        "from pyspark.sql.functions import col\n",
        "\n",
        "# Convert 'Is_discontinued' to binary (0 or 1)\n",
        "df = df.withColumn(\"Is_discontinued\", col(\"Is_discontinued\").cast(\"int\"))\n",
        "\n",
        "df.show(5)"
      ],
      "metadata": {
        "trusted": true,
        "id": "738bbd5a-4d5b-4a0d-ad72-8e14047963bc"
      },
      "outputs": [],
      "execution_count": null
    },
    {
      "id": "e47155a8-4fea-4ec5-abd5-286aa22e72df",
      "cell_type": "code",
      "source": [
        "import matplotlib.pyplot as plt\n",
        "\n",
        "# Collect data into pandas for visualization\n",
        "value_counts = df.groupBy(\"mapped_composition\").count().toPandas()\n",
        "\n",
        "# Plot the distribution\n",
        "value_counts.plot(kind='bar', figsize=(15, 5), x='mapped_composition', y='count', legend=False)\n",
        "plt.title(\"Distribution of Mapped Composition\")\n",
        "plt.xlabel(\"Mapped Composition\")\n",
        "plt.ylabel(\"Count\")\n",
        "plt.show()"
      ],
      "metadata": {
        "trusted": true,
        "id": "e47155a8-4fea-4ec5-abd5-286aa22e72df"
      },
      "outputs": [],
      "execution_count": null
    },
    {
      "id": "2eac60b1-e5a8-4081-84b9-dd1ecdb6171a",
      "cell_type": "code",
      "source": [
        "!pip install imbalanced-learn"
      ],
      "metadata": {
        "trusted": true,
        "id": "2eac60b1-e5a8-4081-84b9-dd1ecdb6171a"
      },
      "outputs": [],
      "execution_count": null
    },
    {
      "id": "c8e89a81-0532-4517-8cb8-af90ef5f5574",
      "cell_type": "code",
      "source": [
        "import pandas as pd"
      ],
      "metadata": {
        "trusted": true,
        "id": "c8e89a81-0532-4517-8cb8-af90ef5f5574"
      },
      "outputs": [],
      "execution_count": null
    },
    {
      "id": "2a101f18-1e5d-4d84-9b09-af257b56264b",
      "cell_type": "code",
      "source": [
        "# Count occurrences of 'mapped_composition'\n",
        "mapped_composition_counts = df.groupBy(\"mapped_composition\").count()\n",
        "\n",
        "# Filter out the classes with fewer than 1000 occurrences\n",
        "rare_classes = mapped_composition_counts.filter(mapped_composition_counts['count'] < 100)\n",
        "\n",
        "# Join to filter out these rare classes from the main dataframe\n",
        "df_filtered_spark = df.join(rare_classes, on=\"mapped_composition\", how=\"left_anti\")\n",
        "\n",
        "# Show the filtered DataFrame shape\n",
        "filtered_shape = df_filtered_spark.count(), len(df_filtered_spark.columns)\n",
        "print(f\"Filtered shape: {filtered_shape}\")"
      ],
      "metadata": {
        "trusted": true,
        "id": "2a101f18-1e5d-4d84-9b09-af257b56264b"
      },
      "outputs": [],
      "execution_count": null
    },
    {
      "id": "ebd82b67-b209-48a9-a1fc-e9f2bf55e2d2",
      "cell_type": "code",
      "source": [
        "# Get the value counts in a Pandas DataFrame for plotting\n",
        "value_counts = df_filtered_spark.groupBy(\"mapped_composition\").count().toPandas()\n",
        "\n",
        "# Plotting\n",
        "value_counts.plot(kind='bar', figsize=(15, 5), x='mapped_composition', y='count', legend=False)\n",
        "plt.title(\"Distribution of Mapped Composition\")\n",
        "plt.xlabel(\"Mapped Composition\")\n",
        "plt.ylabel(\"Count\")\n",
        "plt.show()"
      ],
      "metadata": {
        "trusted": true,
        "id": "ebd82b67-b209-48a9-a1fc-e9f2bf55e2d2"
      },
      "outputs": [],
      "execution_count": null
    },
    {
      "id": "88852f22-9eb0-4837-a7a7-1955f1a46269",
      "cell_type": "code",
      "source": [
        "# Calculate the imbalance ratio\n",
        "max_count = value_counts['count'].max()\n",
        "min_count = value_counts['count'].min()\n",
        "imbalance_ratio = max_count / min_count\n",
        "print(f\"Imbalance Ratio: {imbalance_ratio:.2f}\")"
      ],
      "metadata": {
        "trusted": true,
        "id": "88852f22-9eb0-4837-a7a7-1955f1a46269"
      },
      "outputs": [],
      "execution_count": null
    },
    {
      "id": "277615f9-e003-4f45-bc24-a3589d6b744f",
      "cell_type": "code",
      "source": [
        "from pyspark.ml.feature import StringIndexer"
      ],
      "metadata": {
        "trusted": true,
        "id": "277615f9-e003-4f45-bc24-a3589d6b744f"
      },
      "outputs": [],
      "execution_count": null
    },
    {
      "id": "46f04dc4-0806-45c1-ab5a-11f7b0613304",
      "cell_type": "code",
      "source": [
        "indexer = StringIndexer(inputCol=\"pack_size_label\", outputCol=\"pack_size_encoded\")\n",
        "df_filtered_spark = indexer.fit(df_filtered_spark).transform(df_filtered_spark)"
      ],
      "metadata": {
        "trusted": true,
        "id": "46f04dc4-0806-45c1-ab5a-11f7b0613304"
      },
      "outputs": [],
      "execution_count": null
    },
    {
      "id": "cdf55b86-ed5d-40c2-8ff8-89ad4b17a0cc",
      "cell_type": "code",
      "source": [
        "# Select relevant columns and convert to Pandas\n",
        "df_pandas = df_filtered_spark.select(\"price\", \"pack_size_encoded\", \"mapped_composition\").toPandas()\n",
        "\n",
        "# Define features (X) and target (y)\n",
        "X = df_pandas[['price', 'pack_size_encoded']]\n",
        "y = df_pandas['mapped_composition']"
      ],
      "metadata": {
        "trusted": true,
        "id": "cdf55b86-ed5d-40c2-8ff8-89ad4b17a0cc"
      },
      "outputs": [],
      "execution_count": null
    },
    {
      "id": "04931338-a50c-4e44-85a1-92a910083103",
      "cell_type": "code",
      "source": [
        "from imblearn.over_sampling import SMOTE"
      ],
      "metadata": {
        "trusted": true,
        "id": "04931338-a50c-4e44-85a1-92a910083103"
      },
      "outputs": [],
      "execution_count": null
    },
    {
      "id": "e53fef80-2ca5-43df-abbd-32a782326d7a",
      "cell_type": "code",
      "source": [
        "# Apply SMOTE\n",
        "smote = SMOTE(random_state=42)\n",
        "X_resampled, y_resampled = smote.fit_resample(X, y)\n",
        "\n",
        "# Show the resampled dataset shape\n",
        "print(f\"Resampled dataset shape: {X_resampled.shape}\")"
      ],
      "metadata": {
        "trusted": true,
        "id": "e53fef80-2ca5-43df-abbd-32a782326d7a"
      },
      "outputs": [],
      "execution_count": null
    },
    {
      "id": "85791ce7-37df-434d-9ddc-a3f3c8fcd92b",
      "cell_type": "code",
      "source": [
        "import pandas as pd\n",
        "\n",
        "# Convert the resampled target variable 'y_resampled' to a DataFrame\n",
        "y_resampled_df = pd.DataFrame(y_resampled, columns=[\"mapped_composition\"])\n",
        "\n",
        "# Count the occurrences of each class\n",
        "class_counts = y_resampled_df['mapped_composition'].value_counts()\n",
        "\n",
        "# Print the class counts\n",
        "print(class_counts)"
      ],
      "metadata": {
        "trusted": true,
        "id": "85791ce7-37df-434d-9ddc-a3f3c8fcd92b"
      },
      "outputs": [],
      "execution_count": null
    },
    {
      "id": "48758ed5-ef65-497d-ab7e-02d99a7d1c83",
      "cell_type": "code",
      "source": [
        "!pip install xgboost"
      ],
      "metadata": {
        "trusted": true,
        "id": "48758ed5-ef65-497d-ab7e-02d99a7d1c83"
      },
      "outputs": [],
      "execution_count": null
    },
    {
      "id": "9227c4db-5088-499a-a541-de77dcaa45ce",
      "cell_type": "code",
      "source": [
        "from sklearn.preprocessing import LabelEncoder\n",
        "from xgboost import XGBClassifier\n",
        "from sklearn.metrics import classification_report, accuracy_score\n",
        "from sklearn.model_selection import train_test_split\n",
        "\n",
        "# Initialize LabelEncoder\n",
        "label_encoder = LabelEncoder()\n",
        "\n",
        "# Encode the target variable 'mapped_composition'\n",
        "y_sampled_encoded = label_encoder.fit_transform(y_resampled_df)\n",
        "\n",
        "# Split into training and testing sets\n",
        "X_train, X_test, y_train, y_test = train_test_split(X_resampled, y_sampled_encoded, test_size=0.2, random_state=42)\n",
        "\n",
        "# Initialize XGBoost classifier\n",
        "xgb_classifier = XGBClassifier(n_estimators=100, learning_rate=0.1, max_depth=6, random_state=42)\n",
        "\n",
        "# Train the model\n",
        "xgb_classifier.fit(X_train, y_train)\n",
        "\n",
        "# Predict\n",
        "y_pred_xgb = xgb_classifier.predict(X_test)\n",
        "\n",
        "# Decode the predictions back to the original labels\n",
        "y_pred_xgb_original = label_encoder.inverse_transform(y_pred_xgb)\n",
        "\n",
        "# Evaluate\n",
        "from sklearn.metrics import classification_report, accuracy_score\n",
        "\n",
        "# Evaluate using numeric labels\n",
        "print(\"XGBoost Accuracy:\", accuracy_score(y_test, y_pred_xgb))\n",
        "print(\"\\nXGBoost Classification Report (Numeric Labels):\")\n",
        "print(classification_report(y_test, y_pred_xgb))"
      ],
      "metadata": {
        "trusted": true,
        "id": "9227c4db-5088-499a-a541-de77dcaa45ce"
      },
      "outputs": [],
      "execution_count": null
    },
    {
      "id": "90ad9472-574d-4e93-bd46-248608005bcb",
      "cell_type": "code",
      "source": [],
      "metadata": {
        "trusted": true,
        "id": "90ad9472-574d-4e93-bd46-248608005bcb"
      },
      "outputs": [],
      "execution_count": null
    }
  ]
}